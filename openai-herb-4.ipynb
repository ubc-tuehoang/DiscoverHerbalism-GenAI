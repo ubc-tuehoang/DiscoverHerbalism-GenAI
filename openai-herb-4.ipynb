{
 "cells": [
  {
   "cell_type": "code",
   "execution_count": 1,
   "id": "c680108f-84c1-4382-ac1e-27e26f17f96d",
   "metadata": {},
   "outputs": [
    {
     "name": "stdout",
     "output_type": "stream",
     "text": [
      "POST request was successful!\n",
      "Response data TEXT: {\n",
      "  \"created\": 1708286383,\n",
      "  \"data\": [\n",
      "    {\n",
      "      \"url\": \"https://oaidalleapiprodscus.blob.core.windows.net/private/org-2qrCIRfmcjBClbiMsQ7V2bfc/user-lSiuolFzbM4A6l1YyLt8jdOE/img-qsi5VWE4y38a6oAGwebttuW9.png?st=2024-02-18T18%3A59%3A43Z&se=2024-02-18T20%3A59%3A43Z&sp=r&sv=2021-08-06&sr=b&rscd=inline&rsct=image/png&skoid=6aaadede-4fb3-4698-a8f6-684d7786b067&sktid=a48cca56-e6da-484e-a814-9c849652bcb3&skt=2024-02-18T17%3A13%3A01Z&ske=2024-02-19T17%3A13%3A01Z&sks=b&skv=2021-08-06&sig=7/4r%2BPdvKA0LHqoMmxA0D5ToTu6lUEyZTamRLU5NLUM%3D\"\n",
      "    }\n",
      "  ]\n",
      "}\n",
      "\n"
     ]
    },
    {
     "data": {
      "text/html": [
       "<img src=\"https://oaidalleapiprodscus.blob.core.windows.net/private/org-2qrCIRfmcjBClbiMsQ7V2bfc/user-lSiuolFzbM4A6l1YyLt8jdOE/img-qsi5VWE4y38a6oAGwebttuW9.png?st=2024-02-18T18%3A59%3A43Z&se=2024-02-18T20%3A59%3A43Z&sp=r&sv=2021-08-06&sr=b&rscd=inline&rsct=image/png&skoid=6aaadede-4fb3-4698-a8f6-684d7786b067&sktid=a48cca56-e6da-484e-a814-9c849652bcb3&skt=2024-02-18T17%3A13%3A01Z&ske=2024-02-19T17%3A13%3A01Z&sks=b&skv=2021-08-06&sig=7/4r%2BPdvKA0LHqoMmxA0D5ToTu6lUEyZTamRLU5NLUM%3D\"/>"
      ],
      "text/plain": [
       "<IPython.core.display.Image object>"
      ]
     },
     "metadata": {},
     "output_type": "display_data"
    }
   ],
   "source": [
    "import requests\n",
    "import random\n",
    "from IPython.display import Image, display\n",
    "\n",
    "randValue1 = str(int(random.random()*10000))\n",
    "fileName1 = \"OpenAI-Gemini-v3-\"\n",
    "\n",
    "def save_to_file(text, filename):\n",
    "    with open(filename, 'w') as file:\n",
    "        file.write(text)\n",
    "    print(f'Text saved to {filename}')\n",
    "\n",
    "\n",
    "# URL to openai the POST request\n",
    "url = \"https://api.openai.com/v1/images/generations\"\n",
    "\n",
    "json_data = {\n",
    "    \"prompt\": \"randomly generate a herb plant for a herbal medicine.\",\n",
    "    \"n\": 1,\n",
    "    \"size\": \"1024x1024\"\n",
    "  }\n",
    "\n",
    "json_data[\"prompt\"] = \"randomly generate a herb plant for a herbal medicine. \"\n",
    "\n",
    "# Trim the string to a maximum of 1000 characters\n",
    "trimmed_string = json_data[\"prompt\"][1:1000]\n",
    "json_data[\"prompt\"] = trimmed_string\n",
    "\n",
    "\n",
    "# Headers with Bearer token.\n",
    "headers = {\n",
    "    \"Content-Type\": \"application/json\",\n",
    "    \"Authorization\": \"<YOUR API KEY>\"\n",
    "}\n",
    "\n",
    "# Send the POST request with headers and JSON data\n",
    "response = requests.post(url, json=json_data, headers=headers)\n",
    "image_url = \"\"\n",
    "\n",
    "# Check the response status code\n",
    "if response.status_code == 200:\n",
    "    print(\"POST request was successful!\")\n",
    "\n",
    "    response_json = response.json()\n",
    "    print(\"Response data TEXT:\", response.text)\n",
    "    \n",
    "    extracted_url = response_json.get('url')\n",
    "    #print(\"Response data URL:\", response_json.get('data')[0].get('url'))\n",
    "    image_url = response_json.get('data')[0].get('url')\n",
    "\n",
    "    # Display the image\n",
    "    display(Image(url=image_url))\n",
    "    \n",
    "else:\n",
    "    print(\"POST request failed with status code:\", response.status_code)\n",
    "    print(\"Error message:\", response.text)\n"
   ]
  },
  {
   "cell_type": "code",
   "execution_count": 2,
   "id": "92b6d4dd-5a0a-42d5-95f7-3e2ecfb97cf0",
   "metadata": {},
   "outputs": [
    {
     "name": "stdout",
     "output_type": "stream",
     "text": [
      "Requirement already satisfied: Pillow in /home/codespace/.local/lib/python3.10/site-packages (10.2.0)\n",
      "Python 3.10.13\n"
     ]
    }
   ],
   "source": [
    "!pip install Pillow\n",
    "# Upgrade Python to version 3.10\n",
    "!python --version"
   ]
  },
  {
   "cell_type": "code",
   "execution_count": 3,
   "id": "71b8ca14-d43b-4d69-93f3-4c1be85fb082",
   "metadata": {},
   "outputs": [],
   "source": [
    "from PIL import Image\n",
    "\n",
    "# URL of the image\n",
    "#image_url = \"your_image_url.jpg\"  # Replace with the actual URL\n",
    "\n",
    "# Fetch the image from the URL\n",
    "response = requests.get(image_url, stream=True)\n",
    "response.raise_for_status()\n",
    "\n",
    "# Open the image using Pillow\n",
    "img = Image.open(response.raw)\n",
    "\n",
    "# Save the original image\n",
    "#img.save(\"original_image.jpg\")"
   ]
  },
  {
   "cell_type": "code",
   "execution_count": 4,
   "id": "610947cf-b679-4083-91a1-1ea12ca6ed10",
   "metadata": {},
   "outputs": [],
   "source": [
    "import random\n",
    "randValue1 = str(int(random.random()*10000))\n",
    "fileName1 = \"OpenAI-Herb-v2-\"\n",
    "\n",
    "file_name = fileName1 + randValue1 + \"_.jpg\"\n",
    "img.save(file_name)"
   ]
  },
  {
   "cell_type": "code",
   "execution_count": 5,
   "id": "ebc2d27c-7ce3-4c40-886d-9caa9a7a9388",
   "metadata": {},
   "outputs": [],
   "source": [
    "import base64\n",
    "import requests\n",
    "import json\n",
    "import time"
   ]
  },
  {
   "cell_type": "code",
   "execution_count": 6,
   "id": "8eabf653-a709-461b-98b1-ea71c61388b9",
   "metadata": {},
   "outputs": [],
   "source": [
    "\n",
    "# OpenAI API Key\n",
    "api_key = \"<YOUR API KEY>\"\n",
    "\n",
    "# Function to encode the image\n",
    "def encode_image(image_path):\n",
    "  with open(image_path, \"rb\") as image_file:\n",
    "    return base64.b64encode(image_file.read()).decode('utf-8')\n",
    "\n",
    "# Path to your image\n",
    "image_path = file_name\n",
    "\n",
    "# Getting the base64 string\n",
    "base64_image = encode_image(image_path)\n",
    "\n",
    "# Delay for 3 seconds\n",
    "time.sleep(3)"
   ]
  },
  {
   "cell_type": "code",
   "execution_count": 7,
   "id": "4a9fe22b-f890-4ba0-aac5-ebcde12d84df",
   "metadata": {},
   "outputs": [
    {
     "name": "stdout",
     "output_type": "stream",
     "text": [
      "The image features watercolor illustrations of various plants and herbs, each labeled with a name—unfortunately, the text appears to be in a script or language that I cannot decipher. However, I can identify the plants and their common uses in herbalism based on their appearance:\n",
      "\n",
      "1. At the top left, there's a yellow-orange flower that resembles Echinacea. Echinacea is widely used for its potential to boost the immune system and reduce symptoms of colds and other infections.\n",
      "\n",
      "2. The white flowers next to it with yellow centers look similar to Chamomile. Chamomile is often used in herbal teas for its calming effects and is believed to aid with sleep and digestion.\n",
      "\n",
      "3. The purple spiky flower appears to be Lavender. Lavender is famed for its calming and relaxing properties. It's often used in aromatherapy, and in teas to reduce stress and anxiety.\n",
      "\n",
      "4. Below the Lavender, there is a root that looks like Ginger. Ginger is commonly used to alleviate nausea, help with digestion, and as an anti-inflammatory agent.\n",
      "\n",
      "5. Lastly, the bulbous plant at the bottom right seems to resemble Garlic. Garlic is known for its cardiovascular benefits, as well as its antimicrobial and antiviral properties, and is often used to boost the immune system.\n",
      "\n",
      "Although the names next to the plants are not in a recognizable script, the images provide a good indication of the plants' identity and their uses within herbal medicine.\n"
     ]
    }
   ],
   "source": [
    "\n",
    "headers = {\n",
    "  \"Content-Type\": \"application/json\",\n",
    "  \"Authorization\": f\"Bearer {api_key}\"\n",
    "}\n",
    "\n",
    "##\"text\": \"Imphazise on this meeting behavioral cues and the person and categorizing their microexpressions.\"\n",
    "\n",
    "payload = {\n",
    "  \"model\": \"gpt-4-vision-preview\",\n",
    "  \"messages\": [\n",
    "    {\n",
    "      \"role\": \"user\",\n",
    "      \"content\": [\n",
    "        {\n",
    "          \"type\": \"text\",\n",
    "          \"text\": \"Describe the image within the framework of herbalism. What is this type of plant? What is the name?\"\n",
    "        },\n",
    "        {\n",
    "          \"type\": \"image_url\",\n",
    "          \"image_url\": {\n",
    "            \"url\": f\"data:image/jpeg;base64,{base64_image}\",\n",
    "            \"detail\": \"low\"\n",
    "          }\n",
    "        }\n",
    "      ]\n",
    "    }\n",
    "  ],\n",
    "  \"max_tokens\": 300\n",
    "}\n",
    "\n",
    "response = requests.post(\"https://api.openai.com/v1/chat/completions\", headers=headers, json=payload)\n",
    "\n",
    "##print(response.json())\n",
    "\n",
    "data = response.json()\n",
    "\n",
    "# Extract the \"content\" field\n",
    "content = data['choices'][0]['message']['content']\n",
    "print(content)\n"
   ]
  },
  {
   "cell_type": "code",
   "execution_count": 8,
   "id": "b76964dc-0dae-48ca-b755-6b5810b70983",
   "metadata": {},
   "outputs": [
    {
     "name": "stdout",
     "output_type": "stream",
     "text": [
      "Text saved to OpenAI-Herb-v2-5076_.txt\n"
     ]
    }
   ],
   "source": [
    "def save_to_file(text, filename):\n",
    "    with open(filename, 'w') as file:\n",
    "        file.write(text)\n",
    "    print(f'Text saved to {filename}')\n",
    "    \n",
    "# Save story to text file. \n",
    "text_to_save = content\n",
    "filename = fileName1 + randValue1 + \"_.txt\"\n",
    "save_to_file(text_to_save, filename)"
   ]
  },
  {
   "cell_type": "code",
   "execution_count": null,
   "id": "13383cd0-3c52-42b6-aa67-994010918a0e",
   "metadata": {},
   "outputs": [],
   "source": []
  }
 ],
 "metadata": {
  "kernelspec": {
   "display_name": "Python 3 (ipykernel)",
   "language": "python",
   "name": "python3"
  },
  "language_info": {
   "codemirror_mode": {
    "name": "ipython",
    "version": 3
   },
   "file_extension": ".py",
   "mimetype": "text/x-python",
   "name": "python",
   "nbconvert_exporter": "python",
   "pygments_lexer": "ipython3",
   "version": "3.10.13"
  }
 },
 "nbformat": 4,
 "nbformat_minor": 5
}
